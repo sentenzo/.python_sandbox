{
 "cells": [
  {
   "cell_type": "code",
   "execution_count": 1,
   "metadata": {},
   "outputs": [],
   "source": [
    "# consts\n",
    "N = 10**7\n",
    "MOD = 1499"
   ]
  },
  {
   "cell_type": "code",
   "execution_count": 7,
   "metadata": {},
   "outputs": [],
   "source": [
    "# imports\n",
    "import numpy as np"
   ]
  },
  {
   "cell_type": "markdown",
   "metadata": {},
   "source": [
    "# Why `numpy`?"
   ]
  },
  {
   "cell_type": "code",
   "execution_count": 37,
   "metadata": {},
   "outputs": [
    {
     "name": "stdout",
     "output_type": "stream",
     "text": [
      "CPU times: total: 4.95 s\n",
      "Wall time: 4.98 s\n"
     ]
    },
    {
     "data": {
      "text/plain": [
       "1267"
      ]
     },
     "execution_count": 37,
     "metadata": {},
     "output_type": "execute_result"
    }
   ],
   "source": [
    "%%time\n",
    "# Casual Python approach: (5.2s)\n",
    "arr = []\n",
    "for i in range(N):\n",
    "    val = i**2+ 5*i - 2\n",
    "    val %= MOD\n",
    "    arr.append(val)\n",
    "assert arr[-1] == 1267"
   ]
  },
  {
   "cell_type": "code",
   "execution_count": 45,
   "metadata": {},
   "outputs": [
    {
     "name": "stdout",
     "output_type": "stream",
     "text": [
      "CPU times: total: 219 ms\n",
      "Wall time: 222 ms\n"
     ]
    }
   ],
   "source": [
    "%%time\n",
    "# NumPy approach: (0.2s)\n",
    "arr = np.arange(N, dtype=np.int64)\n",
    "arr = (arr**2+ 5*arr - 2) % MOD\n",
    "assert arr[-1] == 1267\n",
    "\n",
    "# though if you use\n",
    "# >  for i in range(N):\n",
    "# >      ... # do something with arr\n",
    "# -it'll take the same time as pure python"
   ]
  },
  {
   "cell_type": "code",
   "execution_count": 27,
   "metadata": {},
   "outputs": [
    {
     "name": "stdout",
     "output_type": "stream",
     "text": [
      "type   = <class 'numpy.ndarray'>\n",
      "len    = 4\n",
      "dtype  = int64\n",
      "shape  = (4,)\n",
      "nbytes = 32\n"
     ]
    }
   ],
   "source": [
    "arr = np.array([2,3,5,7], dtype=np.int64)\n",
    "print(f\"type   = {type(arr)}\")\n",
    "print(f\"len    = {len(arr)}\")\n",
    "print(f\"dtype  = {arr.dtype}\")\n",
    "print(f\"shape  = {arr.shape}\")\n",
    "print(f\"nbytes = {arr.nbytes}\")"
   ]
  },
  {
   "cell_type": "code",
   "execution_count": 48,
   "metadata": {},
   "outputs": [
    {
     "name": "stdout",
     "output_type": "stream",
     "text": [
      "[10.  15.5 21.  26.5 32. ]\n",
      "[   1.            5.62341325   31.6227766   177.827941   1000.        ]\n",
      "\n",
      "[  11.           21.12341325   52.6227766   204.327941   1032.        ]\n",
      "[   9.            9.87658675  -10.6227766  -151.327941   -968.        ]\n",
      "[1.00000000e+01 8.71629054e+01 6.64078309e+02 4.71244044e+03\n",
      " 3.20000000e+04]\n",
      "[10.          2.75633309  0.66407831  0.14902045  0.032     ]\n",
      "[ 50.   77.5 105.  132.5 160. ]\n",
      "[-0.54402111  0.20646748  0.83665564  0.97935764  0.55142668]\n",
      "False\n",
      "True\n"
     ]
    }
   ],
   "source": [
    "a = np.linspace(10., 32, 5)\n",
    "b = np.logspace(0, 3, 5)\n",
    "print(a)\n",
    "print(b)\n",
    "print()\n",
    "print(a + b)\n",
    "print(a - b)\n",
    "print(a * b)\n",
    "print(a / b)\n",
    "print(a * 5)\n",
    "print(np.sin(a))\n",
    "print(np.any(a == 22))\n",
    "print(np.all(a != 0))\n"
   ]
  },
  {
   "cell_type": "markdown",
   "metadata": {},
   "source": [
    "---"
   ]
  },
  {
   "cell_type": "code",
   "execution_count": 57,
   "metadata": {},
   "outputs": [
    {
     "name": "stdout",
     "output_type": "stream",
     "text": [
      "[101 102 103 104] [1001 1002] [10001 10002 10003]\n",
      "[  101   102   103   104  1001  1002 10001 10002 10003]\n",
      "[101 102 103 104] [1001 1002] [10001 10002 10003]\n"
     ]
    }
   ],
   "source": [
    "a = 100 + np.arange(1,5)\n",
    "b = 1000 + np.arange(1,3)\n",
    "c = 10_000 + np.arange(1,4)\n",
    "print(a,b,c)\n",
    "abc = np.hstack((a,b,c))\n",
    "print(abc)\n",
    "x, y, z = np.hsplit(abc, [len(a), len(a)+len(b)])\n",
    "print(x, y, z)"
   ]
  },
  {
   "cell_type": "markdown",
   "metadata": {},
   "source": [
    "---"
   ]
  },
  {
   "cell_type": "code",
   "execution_count": 72,
   "metadata": {},
   "outputs": [
    {
     "name": "stdout",
     "output_type": "stream",
     "text": [
      "[ 1  2  3  4  5  6  7  8  9 10]\n",
      "[10  9  8  7  6  5  4  3  2  1]\n",
      "[ 2  4  6  8 10]\n",
      "[1 0 3 0 5 0 7 0 9 0]\n",
      "[-1  0  1  2  3  4  5  6  7  8]\n",
      "[8 8 0 0 5 5 5 3 5 3 5]\n"
     ]
    }
   ],
   "source": [
    "a = np.arange(1,11)\n",
    "b = a.copy()\n",
    "print(a)\n",
    "print(a[::-1])\n",
    "print(a[1::2])\n",
    "a[1::2] = 0\n",
    "print(a)\n",
    "\n",
    "b -= 2\n",
    "print(b)\n",
    "print(b[[9,9,1,1,6,6,6,4,6,4,6]])\n"
   ]
  },
  {
   "cell_type": "code",
   "execution_count": 86,
   "metadata": {},
   "outputs": [
    {
     "data": {
      "text/plain": [
       "array([0., 1., 1., 1., 1., 1., 1., 1., 1., 1., 1., 1., 1., 1., 1., 1., 1.,\n",
       "       1., 1., 1., 1., 1., 1., 1., 1., 1., 1., 1., 1., 1., 1., 1., 1., 1.,\n",
       "       1., 1., 1., 1., 1., 1., 1., 1., 1., 1., 1., 1., 1., 1., 1., 1., 1.,\n",
       "       1., 1., 1., 1., 1., 1., 1., 1., 1., 1., 1., 1., 1., 1., 1., 1., 1.,\n",
       "       1., 1., 1., 1., 1., 1., 1., 1., 1., 1., 1., 1., 1., 1., 1., 1., 1.,\n",
       "       1., 1., 1., 1., 1., 1., 1., 1., 1., 1., 1., 1., 1., 1., 1.])"
      ]
     },
     "execution_count": 86,
     "metadata": {},
     "output_type": "execute_result"
    }
   ],
   "source": [
    "arr = np.linspace(-4*np.pi, 4*np.pi, 100)\n",
    "res = np.sin(arr)**2 + np.cos(arr)**2\n",
    "np.all(res - 1. < 0.000000000000001)\n",
    "# res - 1"
   ]
  }
 ],
 "metadata": {
  "kernelspec": {
   "display_name": "Python 3.10.6 ('.venv310': venv)",
   "language": "python",
   "name": "python3"
  },
  "language_info": {
   "codemirror_mode": {
    "name": "ipython",
    "version": 3
   },
   "file_extension": ".py",
   "mimetype": "text/x-python",
   "name": "python",
   "nbconvert_exporter": "python",
   "pygments_lexer": "ipython3",
   "version": "3.10.6"
  },
  "orig_nbformat": 4,
  "vscode": {
   "interpreter": {
    "hash": "240a36fa69b86f760bf468075655d861ff0dfc09d7fac615aff4ff3ceb7806d6"
   }
  }
 },
 "nbformat": 4,
 "nbformat_minor": 2
}

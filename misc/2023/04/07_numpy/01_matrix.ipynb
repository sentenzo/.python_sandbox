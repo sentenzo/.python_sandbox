{
 "cells": [
  {
   "cell_type": "code",
   "execution_count": 1,
   "metadata": {},
   "outputs": [],
   "source": [
    "import numpy as np\n",
    "import random"
   ]
  },
  {
   "cell_type": "markdown",
   "metadata": {},
   "source": [
    "### 1. Matrix product"
   ]
  },
  {
   "cell_type": "code",
   "execution_count": 2,
   "metadata": {},
   "outputs": [
    {
     "name": "stdout",
     "output_type": "stream",
     "text": [
      "2\n",
      "(100, 100)\n",
      "[[0.4403473  0.49368904 0.77131568 ... 0.28366036 0.45604717 0.07912234]\n",
      " [0.15524601 0.74011043 0.40447642 ... 0.7277719  0.35750941 0.54575804]\n",
      " [0.1474211  0.40028485 0.6256795  ... 0.54764552 0.11012009 0.72141646]\n",
      " ...\n",
      " [0.14354242 0.27273265 0.83443564 ... 0.74991319 0.67894111 0.76139995]\n",
      " [0.45785524 0.21511717 0.03062787 ... 0.42991428 0.00399278 0.24332086]\n",
      " [0.95704725 0.52962391 0.93195829 ... 0.74876342 0.86174949 0.36824659]]\n",
      "[[0.13271622 0.17987333 0.06445859 ... 0.93323029 0.87117021 0.48035073]\n",
      " [0.76977573 0.89208298 0.98382374 ... 0.55253338 0.87239787 0.436636  ]\n",
      " [0.77390646 0.87366148 0.31448202 ... 0.62628551 0.76661674 0.32348073]\n",
      " ...\n",
      " [0.18896093 0.93454328 0.99022153 ... 0.44773395 0.95804219 0.67195319]\n",
      " [0.03214656 0.20880685 0.40194629 ... 0.35839896 0.86576647 0.29152132]\n",
      " [0.74475299 0.99654621 0.92586503 ... 0.85692351 0.86959383 0.41973765]]\n"
     ]
    }
   ],
   "source": [
    "a = np.random.sample((100, 100))\n",
    "b = np.random.sample((100, 100))\n",
    "\n",
    "print(a.ndim)\n",
    "print(a.shape)\n",
    "\n",
    "print(a)\n",
    "print(b)"
   ]
  },
  {
   "cell_type": "code",
   "execution_count": 3,
   "metadata": {},
   "outputs": [],
   "source": [
    "def mult(a, b): # no numpy\n",
    "    size = len(a[0])\n",
    "    ans = np.zeros_like(a)\n",
    "    for i in range(size):\n",
    "      for j in range(size):\n",
    "        scal = 0\n",
    "        for k in range(size):\n",
    "          scal += a[i][k] * b[k][j]\n",
    "        ans[i][j] = scal\n",
    "    return ans"
   ]
  },
  {
   "cell_type": "code",
   "execution_count": 4,
   "metadata": {},
   "outputs": [],
   "source": [
    "def np_mult(a, b):\n",
    "    return a @ b"
   ]
  },
  {
   "cell_type": "code",
   "execution_count": 5,
   "metadata": {},
   "outputs": [
    {
     "name": "stdout",
     "output_type": "stream",
     "text": [
      "CPU times: total: 469 ms\n",
      "Wall time: 468 ms\n",
      "CPU times: total: 0 ns\n",
      "Wall time: 16.3 ms\n"
     ]
    }
   ],
   "source": [
    "%time M1 = mult(a, b)\n",
    "%time M2 = np_mult(a, b)\n",
    "\n",
    "assert np.allclose(np.array(M1), M2)"
   ]
  },
  {
   "cell_type": "markdown",
   "metadata": {},
   "source": [
    "### 2. Vector dot product"
   ]
  },
  {
   "cell_type": "code",
   "execution_count": 19,
   "metadata": {},
   "outputs": [
    {
     "name": "stdout",
     "output_type": "stream",
     "text": [
      "[0.70758455 0.805586   0.57449034 ... 0.24526614 0.88298613 0.12947273] [0.91494169 0.91904121 0.8403543  ... 0.71608578 0.22107091 0.20402236]\n"
     ]
    }
   ],
   "source": [
    "N = 10**7\n",
    "a = np.random.sample((1, N))\n",
    "a = list(a)[0]\n",
    "b = np.random.sample((1, N))\n",
    "b = list(b)[0]\n",
    "print(a, b)"
   ]
  },
  {
   "cell_type": "code",
   "execution_count": 11,
   "metadata": {},
   "outputs": [],
   "source": [
    "def scalar_product(a, b):\n",
    "    return sum(x*y for x, y in zip(a, b))"
   ]
  },
  {
   "cell_type": "code",
   "execution_count": 21,
   "metadata": {},
   "outputs": [],
   "source": [
    "def np_scalar_product(a,b):\n",
    "    # return np.dot(a, b)\n",
    "    return a @ b"
   ]
  },
  {
   "cell_type": "code",
   "execution_count": 22,
   "metadata": {},
   "outputs": [
    {
     "name": "stdout",
     "output_type": "stream",
     "text": [
      "CPU times: total: 1.97 s\n",
      "Wall time: 1.97 s\n",
      "CPU times: total: 62.5 ms\n",
      "Wall time: 6 ms\n"
     ]
    }
   ],
   "source": [
    "%time product_1 = scalar_product(a,b)\n",
    "%time product_2 = np_scalar_product(a,b)\n",
    "\n",
    "assert np.allclose(product_1, product_2)\n",
    "\n",
    "# pure python is faster 😕 "
   ]
  }
 ],
 "metadata": {
  "kernelspec": {
   "display_name": "Python 3.10.6 ('.venv310': venv)",
   "language": "python",
   "name": "python3"
  },
  "language_info": {
   "codemirror_mode": {
    "name": "ipython",
    "version": 3
   },
   "file_extension": ".py",
   "mimetype": "text/x-python",
   "name": "python",
   "nbconvert_exporter": "python",
   "pygments_lexer": "ipython3",
   "version": "3.10.6"
  },
  "orig_nbformat": 4,
  "vscode": {
   "interpreter": {
    "hash": "240a36fa69b86f760bf468075655d861ff0dfc09d7fac615aff4ff3ceb7806d6"
   }
  }
 },
 "nbformat": 4,
 "nbformat_minor": 2
}

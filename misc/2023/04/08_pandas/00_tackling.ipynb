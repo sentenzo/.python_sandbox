{
 "cells": [
  {
   "cell_type": "code",
   "execution_count": 4,
   "metadata": {},
   "outputs": [],
   "source": [
    "import numpy as np\n",
    "import pandas as pd"
   ]
  },
  {
   "cell_type": "markdown",
   "metadata": {},
   "source": [
    "# pd.Series"
   ]
  },
  {
   "cell_type": "code",
   "execution_count": 5,
   "metadata": {},
   "outputs": [
    {
     "data": {
      "text/plain": [
       "0    1.0\n",
       "1    3.0\n",
       "2    5.0\n",
       "3    NaN\n",
       "4    6.0\n",
       "5    8.0\n",
       "dtype: float64"
      ]
     },
     "execution_count": 5,
     "metadata": {},
     "output_type": "execute_result"
    }
   ],
   "source": [
    "some_list = [1, 3, 5, np.nan, 6, 8]\n",
    "ser_1 = pd.Series(some_list)\n",
    "ser_1"
   ]
  },
  {
   "cell_type": "code",
   "execution_count": 6,
   "metadata": {},
   "outputs": [
    {
     "data": {
      "text/plain": [
       "1st day    1.0\n",
       "2nd day    3.0\n",
       "3rd day    5.0\n",
       "4th day    NaN\n",
       "5rd day    6.0\n",
       "6th day    8.0\n",
       "dtype: float64"
      ]
     },
     "execution_count": 6,
     "metadata": {},
     "output_type": "execute_result"
    }
   ],
   "source": [
    "ind = ['1st day', '2nd day', '3rd day', '4th day', '5rd day', '6th day']\n",
    "\n",
    "ser_2 = pd.Series(some_list, index=ind)\n",
    "ser_2"
   ]
  },
  {
   "cell_type": "code",
   "execution_count": 7,
   "metadata": {},
   "outputs": [
    {
     "data": {
      "text/plain": [
       "nan"
      ]
     },
     "execution_count": 7,
     "metadata": {},
     "output_type": "execute_result"
    }
   ],
   "source": [
    "ser_2['4th day']"
   ]
  },
  {
   "cell_type": "code",
   "execution_count": 8,
   "metadata": {},
   "outputs": [
    {
     "data": {
      "text/plain": [
       "1st day    1.0\n",
       "2nd day    3.0\n",
       "3rd day    5.0\n",
       "4th day    NaN\n",
       "5rd day    6.0\n",
       "6th day    8.0\n",
       "Name: Temperature, dtype: float64"
      ]
     },
     "execution_count": 8,
     "metadata": {},
     "output_type": "execute_result"
    }
   ],
   "source": [
    "ser_3 = pd.Series(some_list, index=ind, name='Temperature')\n",
    "ser_3"
   ]
  },
  {
   "cell_type": "code",
   "execution_count": 10,
   "metadata": {},
   "outputs": [
    {
     "data": {
      "text/plain": [
       "5rd day    6.0\n",
       "3rd day    5.0\n",
       "1st day    1.0\n",
       "Name: Temperature, dtype: float64"
      ]
     },
     "execution_count": 10,
     "metadata": {},
     "output_type": "execute_result"
    }
   ],
   "source": [
    "ser_3[-2::-2]"
   ]
  },
  {
   "cell_type": "code",
   "execution_count": 11,
   "metadata": {},
   "outputs": [
    {
     "data": {
      "text/plain": [
       "1st day    False\n",
       "2nd day     True\n",
       "3rd day     True\n",
       "4th day    False\n",
       "5rd day     True\n",
       "6th day     True\n",
       "Name: Temperature, dtype: bool"
      ]
     },
     "execution_count": 11,
     "metadata": {},
     "output_type": "execute_result"
    }
   ],
   "source": [
    "ser_3 > 2"
   ]
  },
  {
   "cell_type": "code",
   "execution_count": 12,
   "metadata": {},
   "outputs": [
    {
     "data": {
      "text/plain": [
       "2nd day    3.0\n",
       "3rd day    5.0\n",
       "5rd day    6.0\n",
       "6th day    8.0\n",
       "Name: Temperature, dtype: float64"
      ]
     },
     "execution_count": 12,
     "metadata": {},
     "output_type": "execute_result"
    }
   ],
   "source": [
    "ser_3[ser_3 > 2]"
   ]
  },
  {
   "cell_type": "code",
   "execution_count": 18,
   "metadata": {},
   "outputs": [
    {
     "data": {
      "text/plain": [
       "0      0\n",
       "13    13\n",
       "17    17\n",
       "26    26\n",
       "34    34\n",
       "39    39\n",
       "51    51\n",
       "52    52\n",
       "65    65\n",
       "68    68\n",
       "78    78\n",
       "85    85\n",
       "91    91\n",
       "dtype: int64"
      ]
     },
     "execution_count": 18,
     "metadata": {},
     "output_type": "execute_result"
    }
   ],
   "source": [
    "arr = pd.Series(range(100))\n",
    "arr[(arr % 13 == 0) | (arr % 17 == 0)]"
   ]
  },
  {
   "cell_type": "code",
   "execution_count": 19,
   "metadata": {},
   "outputs": [
    {
     "data": {
      "text/plain": [
       "0      0\n",
       "35    35\n",
       "70    70\n",
       "dtype: int64"
      ]
     },
     "execution_count": 19,
     "metadata": {},
     "output_type": "execute_result"
    }
   ],
   "source": [
    "arr[(arr % 5 == 0) & (arr % 7 == 0)]"
   ]
  },
  {
   "cell_type": "code",
   "execution_count": 20,
   "metadata": {},
   "outputs": [
    {
     "data": {
      "text/plain": [
       "0    11.0\n",
       "1     7.0\n",
       "2     4.0\n",
       "3     6.0\n",
       "4     9.0\n",
       "5     NaN\n",
       "dtype: float64"
      ]
     },
     "execution_count": 20,
     "metadata": {},
     "output_type": "execute_result"
    }
   ],
   "source": [
    "term_1 = pd.Series(np.random.randint(0, 10, 5))\n",
    "term_2 = pd.Series(np.random.randint(0, 10, 6))\n",
    "\n",
    "term_1 + term_2"
   ]
  },
  {
   "cell_type": "markdown",
   "metadata": {},
   "source": [
    "# pd.DataFrame"
   ]
  },
  {
   "cell_type": "code",
   "execution_count": 21,
   "metadata": {},
   "outputs": [
    {
     "data": {
      "text/html": [
       "<div>\n",
       "<style scoped>\n",
       "    .dataframe tbody tr th:only-of-type {\n",
       "        vertical-align: middle;\n",
       "    }\n",
       "\n",
       "    .dataframe tbody tr th {\n",
       "        vertical-align: top;\n",
       "    }\n",
       "\n",
       "    .dataframe thead th {\n",
       "        text-align: right;\n",
       "    }\n",
       "</style>\n",
       "<table border=\"1\" class=\"dataframe\">\n",
       "  <thead>\n",
       "    <tr style=\"text-align: right;\">\n",
       "      <th></th>\n",
       "      <th>one</th>\n",
       "      <th>two</th>\n",
       "      <th>three</th>\n",
       "    </tr>\n",
       "  </thead>\n",
       "  <tbody>\n",
       "    <tr>\n",
       "      <th>a</th>\n",
       "      <td>1.0</td>\n",
       "      <td>1</td>\n",
       "      <td>5</td>\n",
       "    </tr>\n",
       "    <tr>\n",
       "      <th>b</th>\n",
       "      <td>2.0</td>\n",
       "      <td>2</td>\n",
       "      <td>6</td>\n",
       "    </tr>\n",
       "    <tr>\n",
       "      <th>c</th>\n",
       "      <td>3.0</td>\n",
       "      <td>3</td>\n",
       "      <td>7</td>\n",
       "    </tr>\n",
       "    <tr>\n",
       "      <th>d</th>\n",
       "      <td>NaN</td>\n",
       "      <td>4</td>\n",
       "      <td>8</td>\n",
       "    </tr>\n",
       "  </tbody>\n",
       "</table>\n",
       "</div>"
      ],
      "text/plain": [
       "   one  two  three\n",
       "a  1.0    1      5\n",
       "b  2.0    2      6\n",
       "c  3.0    3      7\n",
       "d  NaN    4      8"
      ]
     },
     "execution_count": 21,
     "metadata": {},
     "output_type": "execute_result"
    }
   ],
   "source": [
    "some_dict = {'one': pd.Series([1,2,3], index=['a','b','c']),\n",
    "             'two': pd.Series([1,2,3,4], index=['a','b','c','d']),\n",
    "             'three': pd.Series([5,6,7,8], index=['a','b','c','d'])}\n",
    "df = pd.DataFrame(some_dict)\n",
    "df"
   ]
  },
  {
   "cell_type": "code",
   "execution_count": 30,
   "metadata": {},
   "outputs": [
    {
     "data": {
      "text/html": [
       "<div>\n",
       "<style scoped>\n",
       "    .dataframe tbody tr th:only-of-type {\n",
       "        vertical-align: middle;\n",
       "    }\n",
       "\n",
       "    .dataframe tbody tr th {\n",
       "        vertical-align: top;\n",
       "    }\n",
       "\n",
       "    .dataframe thead th {\n",
       "        text-align: right;\n",
       "    }\n",
       "</style>\n",
       "<table border=\"1\" class=\"dataframe\">\n",
       "  <thead>\n",
       "    <tr style=\"text-align: right;\">\n",
       "      <th></th>\n",
       "      <th>col 0</th>\n",
       "      <th>col 1</th>\n",
       "      <th>col 2</th>\n",
       "      <th>col 3</th>\n",
       "      <th>col 4</th>\n",
       "      <th>col 5</th>\n",
       "      <th>col 6</th>\n",
       "      <th>col 7</th>\n",
       "    </tr>\n",
       "  </thead>\n",
       "  <tbody>\n",
       "    <tr>\n",
       "      <th>row 0</th>\n",
       "      <td>485</td>\n",
       "      <td>95</td>\n",
       "      <td>721</td>\n",
       "      <td>326</td>\n",
       "      <td>194</td>\n",
       "      <td>516</td>\n",
       "      <td>838</td>\n",
       "      <td>244</td>\n",
       "    </tr>\n",
       "    <tr>\n",
       "      <th>row 1</th>\n",
       "      <td>245</td>\n",
       "      <td>870</td>\n",
       "      <td>809</td>\n",
       "      <td>513</td>\n",
       "      <td>765</td>\n",
       "      <td>143</td>\n",
       "      <td>523</td>\n",
       "      <td>799</td>\n",
       "    </tr>\n",
       "    <tr>\n",
       "      <th>row 2</th>\n",
       "      <td>233</td>\n",
       "      <td>523</td>\n",
       "      <td>234</td>\n",
       "      <td>390</td>\n",
       "      <td>703</td>\n",
       "      <td>663</td>\n",
       "      <td>702</td>\n",
       "      <td>568</td>\n",
       "    </tr>\n",
       "    <tr>\n",
       "      <th>row 3</th>\n",
       "      <td>161</td>\n",
       "      <td>44</td>\n",
       "      <td>864</td>\n",
       "      <td>333</td>\n",
       "      <td>975</td>\n",
       "      <td>540</td>\n",
       "      <td>733</td>\n",
       "      <td>368</td>\n",
       "    </tr>\n",
       "    <tr>\n",
       "      <th>row 4</th>\n",
       "      <td>901</td>\n",
       "      <td>757</td>\n",
       "      <td>816</td>\n",
       "      <td>915</td>\n",
       "      <td>526</td>\n",
       "      <td>323</td>\n",
       "      <td>722</td>\n",
       "      <td>59</td>\n",
       "    </tr>\n",
       "  </tbody>\n",
       "</table>\n",
       "</div>"
      ],
      "text/plain": [
       "       col 0  col 1  col 2  col 3  col 4  col 5  col 6  col 7\n",
       "row 0    485     95    721    326    194    516    838    244\n",
       "row 1    245    870    809    513    765    143    523    799\n",
       "row 2    233    523    234    390    703    663    702    568\n",
       "row 3    161     44    864    333    975    540    733    368\n",
       "row 4    901    757    816    915    526    323    722     59"
      ]
     },
     "execution_count": 30,
     "metadata": {},
     "output_type": "execute_result"
    }
   ],
   "source": [
    "some_mx = np.random.randint(0, 1000, (5, 8))\n",
    "df = pd.DataFrame(some_mx, \n",
    "    index=[f\"row {i}\" for i in range(5)],\n",
    "    columns=[f\"col {i}\" for i in range(8)],\n",
    ")\n",
    "df"
   ]
  },
  {
   "cell_type": "code",
   "execution_count": 31,
   "metadata": {},
   "outputs": [
    {
     "name": "stdout",
     "output_type": "stream",
     "text": [
      "[[485  95 721 326 194 516 838 244]\n",
      " [245 870 809 513 765 143 523 799]\n",
      " [233 523 234 390 703 663 702 568]\n",
      " [161  44 864 333 975 540 733 368]\n",
      " [901 757 816 915 526 323 722  59]]\n",
      "Index(['col 0', 'col 1', 'col 2', 'col 3', 'col 4', 'col 5', 'col 6', 'col 7'], dtype='object')\n"
     ]
    }
   ],
   "source": [
    "print(df.values)\n",
    "print(df.columns)"
   ]
  },
  {
   "cell_type": "code",
   "execution_count": 35,
   "metadata": {},
   "outputs": [
    {
     "data": {
      "text/plain": [
       "row 0    721\n",
       "row 1    809\n",
       "row 2    234\n",
       "row 3    864\n",
       "row 4    816\n",
       "Name: col 2, dtype: int32"
      ]
     },
     "execution_count": 35,
     "metadata": {},
     "output_type": "execute_result"
    }
   ],
   "source": [
    "df[\"col 2\"]"
   ]
  },
  {
   "cell_type": "code",
   "execution_count": 37,
   "metadata": {},
   "outputs": [
    {
     "data": {
      "text/html": [
       "<div>\n",
       "<style scoped>\n",
       "    .dataframe tbody tr th:only-of-type {\n",
       "        vertical-align: middle;\n",
       "    }\n",
       "\n",
       "    .dataframe tbody tr th {\n",
       "        vertical-align: top;\n",
       "    }\n",
       "\n",
       "    .dataframe thead th {\n",
       "        text-align: right;\n",
       "    }\n",
       "</style>\n",
       "<table border=\"1\" class=\"dataframe\">\n",
       "  <thead>\n",
       "    <tr style=\"text-align: right;\">\n",
       "      <th></th>\n",
       "      <th>col 2</th>\n",
       "      <th>col 4</th>\n",
       "    </tr>\n",
       "  </thead>\n",
       "  <tbody>\n",
       "    <tr>\n",
       "      <th>row 0</th>\n",
       "      <td>721</td>\n",
       "      <td>194</td>\n",
       "    </tr>\n",
       "    <tr>\n",
       "      <th>row 1</th>\n",
       "      <td>809</td>\n",
       "      <td>765</td>\n",
       "    </tr>\n",
       "    <tr>\n",
       "      <th>row 2</th>\n",
       "      <td>234</td>\n",
       "      <td>703</td>\n",
       "    </tr>\n",
       "    <tr>\n",
       "      <th>row 3</th>\n",
       "      <td>864</td>\n",
       "      <td>975</td>\n",
       "    </tr>\n",
       "    <tr>\n",
       "      <th>row 4</th>\n",
       "      <td>816</td>\n",
       "      <td>526</td>\n",
       "    </tr>\n",
       "  </tbody>\n",
       "</table>\n",
       "</div>"
      ],
      "text/plain": [
       "       col 2  col 4\n",
       "row 0    721    194\n",
       "row 1    809    765\n",
       "row 2    234    703\n",
       "row 3    864    975\n",
       "row 4    816    526"
      ]
     },
     "execution_count": 37,
     "metadata": {},
     "output_type": "execute_result"
    }
   ],
   "source": [
    "df[[\"col 2\", \"col 4\"]]"
   ]
  },
  {
   "cell_type": "code",
   "execution_count": 43,
   "metadata": {},
   "outputs": [
    {
     "data": {
      "text/html": [
       "<div>\n",
       "<style scoped>\n",
       "    .dataframe tbody tr th:only-of-type {\n",
       "        vertical-align: middle;\n",
       "    }\n",
       "\n",
       "    .dataframe tbody tr th {\n",
       "        vertical-align: top;\n",
       "    }\n",
       "\n",
       "    .dataframe thead th {\n",
       "        text-align: right;\n",
       "    }\n",
       "</style>\n",
       "<table border=\"1\" class=\"dataframe\">\n",
       "  <thead>\n",
       "    <tr style=\"text-align: right;\">\n",
       "      <th></th>\n",
       "      <th>col 0</th>\n",
       "      <th>col 1</th>\n",
       "      <th>col 2</th>\n",
       "      <th>col 3</th>\n",
       "      <th>col 4</th>\n",
       "      <th>col 5</th>\n",
       "      <th>col 6</th>\n",
       "      <th>col 7</th>\n",
       "    </tr>\n",
       "  </thead>\n",
       "  <tbody>\n",
       "    <tr>\n",
       "      <th>row 4</th>\n",
       "      <td>901</td>\n",
       "      <td>757</td>\n",
       "      <td>816</td>\n",
       "      <td>915</td>\n",
       "      <td>526</td>\n",
       "      <td>323</td>\n",
       "      <td>722</td>\n",
       "      <td>59</td>\n",
       "    </tr>\n",
       "    <tr>\n",
       "      <th>row 2</th>\n",
       "      <td>233</td>\n",
       "      <td>523</td>\n",
       "      <td>234</td>\n",
       "      <td>390</td>\n",
       "      <td>703</td>\n",
       "      <td>663</td>\n",
       "      <td>702</td>\n",
       "      <td>568</td>\n",
       "    </tr>\n",
       "    <tr>\n",
       "      <th>row 0</th>\n",
       "      <td>485</td>\n",
       "      <td>95</td>\n",
       "      <td>721</td>\n",
       "      <td>326</td>\n",
       "      <td>194</td>\n",
       "      <td>516</td>\n",
       "      <td>838</td>\n",
       "      <td>244</td>\n",
       "    </tr>\n",
       "  </tbody>\n",
       "</table>\n",
       "</div>"
      ],
      "text/plain": [
       "       col 0  col 1  col 2  col 3  col 4  col 5  col 6  col 7\n",
       "row 4    901    757    816    915    526    323    722     59\n",
       "row 2    233    523    234    390    703    663    702    568\n",
       "row 0    485     95    721    326    194    516    838    244"
      ]
     },
     "execution_count": 43,
     "metadata": {},
     "output_type": "execute_result"
    }
   ],
   "source": [
    "df[-1::-2]"
   ]
  },
  {
   "cell_type": "code",
   "execution_count": 49,
   "metadata": {},
   "outputs": [
    {
     "data": {
      "text/html": [
       "<div>\n",
       "<style scoped>\n",
       "    .dataframe tbody tr th:only-of-type {\n",
       "        vertical-align: middle;\n",
       "    }\n",
       "\n",
       "    .dataframe tbody tr th {\n",
       "        vertical-align: top;\n",
       "    }\n",
       "\n",
       "    .dataframe thead th {\n",
       "        text-align: right;\n",
       "    }\n",
       "</style>\n",
       "<table border=\"1\" class=\"dataframe\">\n",
       "  <thead>\n",
       "    <tr style=\"text-align: right;\">\n",
       "      <th></th>\n",
       "      <th>col 1</th>\n",
       "      <th>col 3</th>\n",
       "      <th>col 5</th>\n",
       "    </tr>\n",
       "  </thead>\n",
       "  <tbody>\n",
       "    <tr>\n",
       "      <th>row 1</th>\n",
       "      <td>870</td>\n",
       "      <td>513</td>\n",
       "      <td>143</td>\n",
       "    </tr>\n",
       "    <tr>\n",
       "      <th>row 2</th>\n",
       "      <td>523</td>\n",
       "      <td>390</td>\n",
       "      <td>663</td>\n",
       "    </tr>\n",
       "  </tbody>\n",
       "</table>\n",
       "</div>"
      ],
      "text/plain": [
       "       col 1  col 3  col 5\n",
       "row 1    870    513    143\n",
       "row 2    523    390    663"
      ]
     },
     "execution_count": 49,
     "metadata": {},
     "output_type": "execute_result"
    }
   ],
   "source": [
    "df.iloc[1:3, 1:6:2]"
   ]
  },
  {
   "cell_type": "code",
   "execution_count": 54,
   "metadata": {},
   "outputs": [
    {
     "data": {
      "text/html": [
       "<div>\n",
       "<style scoped>\n",
       "    .dataframe tbody tr th:only-of-type {\n",
       "        vertical-align: middle;\n",
       "    }\n",
       "\n",
       "    .dataframe tbody tr th {\n",
       "        vertical-align: top;\n",
       "    }\n",
       "\n",
       "    .dataframe thead th {\n",
       "        text-align: right;\n",
       "    }\n",
       "</style>\n",
       "<table border=\"1\" class=\"dataframe\">\n",
       "  <thead>\n",
       "    <tr style=\"text-align: right;\">\n",
       "      <th></th>\n",
       "      <th>col 2</th>\n",
       "      <th>col 5</th>\n",
       "    </tr>\n",
       "  </thead>\n",
       "  <tbody>\n",
       "    <tr>\n",
       "      <th>row 4</th>\n",
       "      <td>816</td>\n",
       "      <td>323</td>\n",
       "    </tr>\n",
       "    <tr>\n",
       "      <th>row 0</th>\n",
       "      <td>721</td>\n",
       "      <td>516</td>\n",
       "    </tr>\n",
       "  </tbody>\n",
       "</table>\n",
       "</div>"
      ],
      "text/plain": [
       "       col 2  col 5\n",
       "row 4    816    323\n",
       "row 0    721    516"
      ]
     },
     "execution_count": 54,
     "metadata": {},
     "output_type": "execute_result"
    }
   ],
   "source": [
    "df.loc[[\"row 4\", \"row 0\"], [\"col 2\", \"col 5\"]]"
   ]
  },
  {
   "cell_type": "markdown",
   "metadata": {},
   "source": [
    "---"
   ]
  },
  {
   "cell_type": "code",
   "execution_count": 68,
   "metadata": {},
   "outputs": [
    {
     "data": {
      "text/html": [
       "<div>\n",
       "<style scoped>\n",
       "    .dataframe tbody tr th:only-of-type {\n",
       "        vertical-align: middle;\n",
       "    }\n",
       "\n",
       "    .dataframe tbody tr th {\n",
       "        vertical-align: top;\n",
       "    }\n",
       "\n",
       "    .dataframe thead th {\n",
       "        text-align: right;\n",
       "    }\n",
       "</style>\n",
       "<table border=\"1\" class=\"dataframe\">\n",
       "  <thead>\n",
       "    <tr style=\"text-align: right;\">\n",
       "      <th></th>\n",
       "      <th>col 0</th>\n",
       "      <th>col 1</th>\n",
       "      <th>col 2</th>\n",
       "      <th>col 3</th>\n",
       "      <th>col 4</th>\n",
       "      <th>col 5</th>\n",
       "      <th>col 6</th>\n",
       "      <th>col 7</th>\n",
       "      <th>new_column</th>\n",
       "    </tr>\n",
       "  </thead>\n",
       "  <tbody>\n",
       "    <tr>\n",
       "      <th>0</th>\n",
       "      <td>326</td>\n",
       "      <td>452</td>\n",
       "      <td>814</td>\n",
       "      <td>293</td>\n",
       "      <td>904</td>\n",
       "      <td>484</td>\n",
       "      <td>454</td>\n",
       "      <td>361</td>\n",
       "      <td>-7</td>\n",
       "    </tr>\n",
       "    <tr>\n",
       "      <th>1</th>\n",
       "      <td>262</td>\n",
       "      <td>824</td>\n",
       "      <td>113</td>\n",
       "      <td>409</td>\n",
       "      <td>977</td>\n",
       "      <td>981</td>\n",
       "      <td>974</td>\n",
       "      <td>557</td>\n",
       "      <td>-9</td>\n",
       "    </tr>\n",
       "    <tr>\n",
       "      <th>2</th>\n",
       "      <td>832</td>\n",
       "      <td>6</td>\n",
       "      <td>975</td>\n",
       "      <td>381</td>\n",
       "      <td>351</td>\n",
       "      <td>922</td>\n",
       "      <td>502</td>\n",
       "      <td>611</td>\n",
       "      <td>-4</td>\n",
       "    </tr>\n",
       "    <tr>\n",
       "      <th>3</th>\n",
       "      <td>795</td>\n",
       "      <td>623</td>\n",
       "      <td>371</td>\n",
       "      <td>54</td>\n",
       "      <td>409</td>\n",
       "      <td>556</td>\n",
       "      <td>601</td>\n",
       "      <td>660</td>\n",
       "      <td>-9</td>\n",
       "    </tr>\n",
       "    <tr>\n",
       "      <th>4</th>\n",
       "      <td>770</td>\n",
       "      <td>747</td>\n",
       "      <td>333</td>\n",
       "      <td>976</td>\n",
       "      <td>497</td>\n",
       "      <td>573</td>\n",
       "      <td>435</td>\n",
       "      <td>546</td>\n",
       "      <td>-7</td>\n",
       "    </tr>\n",
       "  </tbody>\n",
       "</table>\n",
       "</div>"
      ],
      "text/plain": [
       "   col 0  col 1  col 2  col 3  col 4  col 5  col 6  col 7  new_column\n",
       "0    326    452    814    293    904    484    454    361          -7\n",
       "1    262    824    113    409    977    981    974    557          -9\n",
       "2    832      6    975    381    351    922    502    611          -4\n",
       "3    795    623    371     54    409    556    601    660          -9\n",
       "4    770    747    333    976    497    573    435    546          -7"
      ]
     },
     "execution_count": 68,
     "metadata": {},
     "output_type": "execute_result"
    }
   ],
   "source": [
    "df = pd.DataFrame(\n",
    "    np.random.randint(0, 1000, (5, 8)),\n",
    "    columns=[f\"col {i}\" for i in range(8)],\n",
    ")\n",
    "df[\"new_column\"] = np.random.randint(-10, 0, 5).tolist()\n",
    "df"
   ]
  }
 ],
 "metadata": {
  "kernelspec": {
   "display_name": "Python 3.10.6 ('.venv310': venv)",
   "language": "python",
   "name": "python3"
  },
  "language_info": {
   "codemirror_mode": {
    "name": "ipython",
    "version": 3
   },
   "file_extension": ".py",
   "mimetype": "text/x-python",
   "name": "python",
   "nbconvert_exporter": "python",
   "pygments_lexer": "ipython3",
   "version": "3.10.6"
  },
  "orig_nbformat": 4,
  "vscode": {
   "interpreter": {
    "hash": "240a36fa69b86f760bf468075655d861ff0dfc09d7fac615aff4ff3ceb7806d6"
   }
  }
 },
 "nbformat": 4,
 "nbformat_minor": 2
}

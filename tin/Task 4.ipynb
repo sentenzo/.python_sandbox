{
 "cells": [
  {
   "cell_type": "code",
   "execution_count": 17,
   "metadata": {},
   "outputs": [
    {
     "data": {
      "application/vnd.jupyter.widget-view+json": {
       "model_id": "f2717e8f299447108297379686b48163",
       "version_major": 2,
       "version_minor": 0
      },
      "text/plain": [
       "MultiCanvas(height=200, width=200)"
      ]
     },
     "execution_count": 17,
     "metadata": {},
     "output_type": "execute_result"
    }
   ],
   "source": [
    "from ipycanvas import MultiCanvas, Canvas, hold_canvas\n",
    "\n",
    "# Create a multi-layer canvas with 4 layers\n",
    "multi_canvas = MultiCanvas(4, width=200, height=200)\n",
    "multi_canvas[0]  #  Access first layer (background)\n",
    "multi_canvas[3]  #  Access last layer (foreground)\n",
    "\n",
    "\n",
    "with hold_canvas():\n",
    "    back : Canvas = multi_canvas[0]\n",
    "    \n",
    "    back.stroke_rect(0,0,back.width, back.height)\n",
    "\n",
    "multi_canvas\n"
   ]
  },
  {
   "cell_type": "code",
   "execution_count": 2,
   "metadata": {},
   "outputs": [],
   "source": [
    "from math import pi, sin, cos, tan\n",
    "\n",
    "import ipywidgets as widgets\n",
    "\n",
    "from ipycanvas import Canvas, hold_canvas"
   ]
  },
  {
   "cell_type": "code",
   "execution_count": 6,
   "metadata": {},
   "outputs": [],
   "source": [
    "CANVAS = Canvas(width=400, height=400)"
   ]
  },
  {
   "cell_type": "code",
   "execution_count": 7,
   "metadata": {},
   "outputs": [
    {
     "data": {
      "application/vnd.jupyter.widget-view+json": {
       "model_id": "a6b38254f0cb46a2abdfc35cb5da5650",
       "version_major": 2,
       "version_minor": 0
      },
      "text/plain": [
       "Canvas(height=400, width=400)"
      ]
     },
     "metadata": {},
     "output_type": "display_data"
    },
    {
     "data": {
      "application/vnd.jupyter.widget-view+json": {
       "model_id": "61a6e14f618c49f1a0a79a0056374edc",
       "version_major": 2,
       "version_minor": 0
      },
      "text/plain": [
       "interactive(children=(IntSlider(value=5, description='Num:', max=50, min=3), Output()), _dom_classes=('widget-…"
      ]
     },
     "metadata": {},
     "output_type": "display_data"
    },
    {
     "data": {
      "text/plain": [
       "<function __main__.render(number)>"
      ]
     },
     "execution_count": 7,
     "metadata": {},
     "output_type": "execute_result"
    }
   ],
   "source": [
    "slider = widgets.IntSlider(value=5,\n",
    "                              min=3,\n",
    "                              max=50,\n",
    "                              step=1,\n",
    "                              description='Num:',\n",
    "                              disabled=False,\n",
    "                              continuous_update=True,\n",
    "                              orientation='horizontal',\n",
    "                              readout=True,\n",
    "                              readout_format='d')\n",
    "display(CANVAS)\n",
    "\n",
    "def render(number):\n",
    "    global CANVAS\n",
    "    with hold_canvas():\n",
    "        CANVAS.save()\n",
    "\n",
    "        CANVAS.clear()\n",
    "\n",
    "        CANVAS.translate(CANVAS.width / 2.0, CANVAS.height / 2.0)\n",
    "\n",
    "        CANVAS.stroke_style = \"black\"\n",
    "        \n",
    "        CANVAS.fill_polygon([(number,10), (number,50), (120, 0)])\n",
    "        CANVAS.restore()\n",
    "    \n",
    "    # return number*number\n",
    "\n",
    "widgets.interact(render, number=slider)"
   ]
  }
 ],
 "metadata": {
  "kernelspec": {
   "display_name": "Python 3.10.6 ('.venv310': venv)",
   "language": "python",
   "name": "python3"
  },
  "language_info": {
   "codemirror_mode": {
    "name": "ipython",
    "version": 3
   },
   "file_extension": ".py",
   "mimetype": "text/x-python",
   "name": "python",
   "nbconvert_exporter": "python",
   "pygments_lexer": "ipython3",
   "version": "3.10.6"
  },
  "orig_nbformat": 4,
  "vscode": {
   "interpreter": {
    "hash": "621a2e58b4cc6751adc46f54663381e72fa91e4b03c8aaefd520528877459271"
   }
  }
 },
 "nbformat": 4,
 "nbformat_minor": 2
}
